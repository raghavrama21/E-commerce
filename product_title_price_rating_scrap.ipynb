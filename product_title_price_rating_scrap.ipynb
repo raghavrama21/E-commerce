{
 "cells": [
  {
   "cell_type": "code",
   "execution_count": 14,
   "metadata": {},
   "outputs": [],
   "source": [
    "from bs4 import BeautifulSoup\n",
    "import requests\n",
    "import time\n",
    "import datetime\n",
    "import smtplib\n",
    "import csv\n",
    "import re\n",
    "\n",
    "import pandas as pd"
   ]
  },
  {
   "cell_type": "code",
   "execution_count": 15,
   "metadata": {},
   "outputs": [],
   "source": [
    "def price_check_for_amazon_product(product = '3031387465'):\n",
    "    \n",
    "    URL = 'https://www.amazon.com/dp/'+product\n",
    "\n",
    "    headers = {\"User-Agent\": \"Mozilla/5.0 (Windows NT 10.0; Win64; x64) AppleWebKit/537.36 (KHTML, like Gecko) Chrome/126.0.0.0 Safari/537.36 Edg/126.0.0.0\", \n",
    "           \"Accept-Encoding\":\"gzip, deflate, br, zstd\", \n",
    "           \"Accept\":\"text/html,application/xhtml+xml,application/xml;q=0.9,image/avif,image/webp,image/apng,*/*;q=0.8,application/signed-exchange;v=b3;q=0.7\", \n",
    "           \"DNT\":\"1\",\n",
    "           \"Connection\":\"close\", \n",
    "           \"Upgrade-Insecure-Requests\":\"1\"}\n",
    "\n",
    "    page = requests.get(URL, headers=headers)\n",
    "    soup1 = BeautifulSoup(page.content, \"html.parser\")\n",
    "    soup2 = BeautifulSoup(soup1.prettify(), \"html.parser\")\n",
    "\n",
    "    islr={}\n",
    "    islr[\"title\"] = soup2.find(\"span\", {\"id\":\"productTitle\"}).get_text().strip()\n",
    "    islr[\"price\"] = re.sub(r'\\D', '', soup2.find(\"span\", {\"class\":\"a-price-whole\"}).get_text())+\".\"+re.sub(r'\\D', '', soup2.find(\"span\", {\"class\":\"a-price-fraction\"}).get_text())\n",
    "    islr[\"rating\"] = soup2.find(\"div\", {\"id\":\"averageCustomerReviews\"}).find(\"span\", {\"class\":\"a-size-base a-color-base\"}).get_text().strip()\n",
    "    islr[\"date\"] = datetime.date.today()\n",
    "\n",
    "    df = pd.DataFrame([islr])\n",
    "    \n",
    "    with open('ISLR_Python_Dataset.csv', 'a+', newline ='', encoding='UTF8') as f:\n",
    "        writer = csv.writer(f)\n",
    "        writer.writerow(df.values[0])"
   ]
  },
  {
   "cell_type": "code",
   "execution_count": 17,
   "metadata": {},
   "outputs": [],
   "source": [
    "price_check_for_amazon_product(product = 'B0CJT9WCRD')"
   ]
  }
 ],
 "metadata": {
  "kernelspec": {
   "display_name": "Python 3",
   "language": "python",
   "name": "python3"
  },
  "language_info": {
   "codemirror_mode": {
    "name": "ipython",
    "version": 3
   },
   "file_extension": ".py",
   "mimetype": "text/x-python",
   "name": "python",
   "nbconvert_exporter": "python",
   "pygments_lexer": "ipython3",
   "version": "3.9.13"
  }
 },
 "nbformat": 4,
 "nbformat_minor": 2
}
